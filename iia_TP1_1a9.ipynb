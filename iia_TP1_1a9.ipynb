{
 "cells": [
  {
   "cell_type": "markdown",
   "id": "0a3b7a44",
   "metadata": {},
   "source": [
    "## Introd. a la Inteligencia Artificial\n",
    "# Trabajo práctico clase 1 \n",
    "### Consigna: entregar ejercicios del 1 al 9"
   ]
  },
  {
   "cell_type": "markdown",
   "id": "9e7f54db",
   "metadata": {},
   "source": [
    "### EJERCICIO 1"
   ]
  },
  {
   "cell_type": "code",
   "execution_count": 298,
   "id": "4d96cfd9",
   "metadata": {},
   "outputs": [],
   "source": [
    "import numpy as np\n",
    "ejemplo = np.array([[0, 1, 3, -4],[0, 0, 4, 6],[2, 4, 6, 8]], dtype='int8')\n"
   ]
  },
  {
   "cell_type": "code",
   "execution_count": 52,
   "id": "8e1bd13b",
   "metadata": {},
   "outputs": [],
   "source": [
    "# Norma L0 = cantidad de valores distintos a cero para cada fila\n",
    "def norm_0(matrix):\n",
    "    r,c = matrix.shape\n",
    "    print('la matriz tiene {} filas y {} columnas'.format(r,c))\n",
    "    ones = np.divide(matrix, matrix)\n",
    "    where_are_NaNs = np.isnan(ones)\n",
    "    ones[where_are_NaNs] = 0\n",
    "    suma = ones.sum(axis=1, dtype='int8')\n",
    "    print(suma)\n",
    "    \n",
    "    return suma"
   ]
  },
  {
   "cell_type": "code",
   "execution_count": 53,
   "id": "eb31947d",
   "metadata": {},
   "outputs": [
    {
     "name": "stdout",
     "output_type": "stream",
     "text": [
      "la matriz tiene 3 filas y 4 columnas\n",
      "[3 2 4]\n"
     ]
    },
    {
     "name": "stderr",
     "output_type": "stream",
     "text": [
      "C:\\Users\\AULAMU~1\\AppData\\Local\\Temp/ipykernel_2732/276178715.py:5: RuntimeWarning: invalid value encountered in true_divide\n",
      "  ones = np.divide(matrix, matrix)\n"
     ]
    },
    {
     "data": {
      "text/plain": [
       "array([3, 2, 4], dtype=int8)"
      ]
     },
     "execution_count": 53,
     "metadata": {},
     "output_type": "execute_result"
    }
   ],
   "source": [
    "norm_0(ejemplo)"
   ]
  },
  {
   "cell_type": "code",
   "execution_count": 54,
   "id": "f40202d7",
   "metadata": {},
   "outputs": [],
   "source": [
    "# Norma L1 = suma de todos los valores absolutos de cada fila\n",
    "def norm_1(matrix):\n",
    "    r,c = matrix.shape\n",
    "    print('la matriz tiene {} filas y {} columnas'.format(r,c))\n",
    "    absolutos=np.abs(matrix)\n",
    "    suma = absolutos.sum(axis=1)\n",
    "    print(suma)\n",
    "    return suma"
   ]
  },
  {
   "cell_type": "code",
   "execution_count": 55,
   "id": "6510e814",
   "metadata": {},
   "outputs": [
    {
     "name": "stdout",
     "output_type": "stream",
     "text": [
      "la matriz tiene 3 filas y 4 columnas\n",
      "[ 8 10 20]\n"
     ]
    },
    {
     "data": {
      "text/plain": [
       "array([ 8, 10, 20])"
      ]
     },
     "execution_count": 55,
     "metadata": {},
     "output_type": "execute_result"
    }
   ],
   "source": [
    "norm_1(ejemplo)"
   ]
  },
  {
   "cell_type": "code",
   "execution_count": 56,
   "id": "94ddda0b",
   "metadata": {},
   "outputs": [],
   "source": [
    "# Norma L2\n",
    "def norm_2(matrix):\n",
    "    r,c = matrix.shape\n",
    "    print('la matriz tiene {} filas y {} columnas'.format(r,c))\n",
    "    cuadrados = np.power(matrix,2)\n",
    "    suma = np.sum(cuadrados, axis=1)\n",
    "    raiz = np.sqrt(suma)\n",
    "    print('L2 original', raiz)\n",
    "    return raiz\n",
    "    "
   ]
  },
  {
   "cell_type": "code",
   "execution_count": 57,
   "id": "97456cab",
   "metadata": {},
   "outputs": [
    {
     "name": "stdout",
     "output_type": "stream",
     "text": [
      "la matriz tiene 3 filas y 4 columnas\n",
      "L2 original [ 5.09901951  7.21110255 10.95445115]\n"
     ]
    },
    {
     "data": {
      "text/plain": [
       "array([ 5.09901951,  7.21110255, 10.95445115])"
      ]
     },
     "execution_count": 57,
     "metadata": {},
     "output_type": "execute_result"
    }
   ],
   "source": [
    "norm_2(ejemplo)"
   ]
  },
  {
   "cell_type": "code",
   "execution_count": 58,
   "id": "16f72680",
   "metadata": {},
   "outputs": [],
   "source": [
    "# Norma L-infinito: el valor máximo de los módulos de cada fila\n",
    "def norm_inf(matrix):\n",
    "    r,c = matrix.shape\n",
    "    print('la matriz tiene {} filas y {} columnas'.format(r,c))\n",
    "    absolutos=np.abs(matrix)\n",
    "    maximo = absolutos.max(axis=1)\n",
    "    print(maximo)\n",
    "    return maximo\n",
    "    "
   ]
  },
  {
   "cell_type": "code",
   "execution_count": 59,
   "id": "d16e0fb3",
   "metadata": {},
   "outputs": [
    {
     "name": "stdout",
     "output_type": "stream",
     "text": [
      "la matriz tiene 3 filas y 4 columnas\n",
      "[4 6 8]\n"
     ]
    },
    {
     "data": {
      "text/plain": [
       "array([4, 6, 8], dtype=int8)"
      ]
     },
     "execution_count": 59,
     "metadata": {},
     "output_type": "execute_result"
    }
   ],
   "source": [
    "norm_inf(ejemplo)"
   ]
  },
  {
   "cell_type": "markdown",
   "id": "82999981",
   "metadata": {},
   "source": [
    "### EJERCICIO 2"
   ]
  },
  {
   "cell_type": "code",
   "execution_count": 60,
   "id": "6b94d33b",
   "metadata": {},
   "outputs": [],
   "source": [
    "def norm_2_sorting(matrix):\n",
    "    l2 = norm_2(matrix)\n",
    "    indice = np.argsort(l2, axis=-1)[::-1]\n",
    "    ordenada = np.sort(l2, axis=-1)[::-1]\n",
    "    original_ordenada = np.take(matrix, indice, axis=0)\n",
    "    print('L2 ordendada descendente', ordenada)\n",
    "    print('matriz original:\\n',matrix)\n",
    "    print('original ordenada por L2 descendente:\\n',original_ordenada)\n",
    "    return original_ordenada\n"
   ]
  },
  {
   "cell_type": "code",
   "execution_count": 61,
   "id": "b9192800",
   "metadata": {},
   "outputs": [
    {
     "name": "stdout",
     "output_type": "stream",
     "text": [
      "la matriz tiene 3 filas y 4 columnas\n",
      "L2 original [ 5.09901951  7.21110255 10.95445115]\n",
      "L2 ordendada descendente [10.95445115  7.21110255  5.09901951]\n",
      "matriz original:\n",
      " [[ 0  1  3 -4]\n",
      " [ 0  0  4  6]\n",
      " [ 2  4  6  8]]\n",
      "original ordenada por L2 descendente:\n",
      " [[ 2  4  6  8]\n",
      " [ 0  0  4  6]\n",
      " [ 0  1  3 -4]]\n"
     ]
    },
    {
     "data": {
      "text/plain": [
       "array([[ 2,  4,  6,  8],\n",
       "       [ 0,  0,  4,  6],\n",
       "       [ 0,  1,  3, -4]], dtype=int8)"
      ]
     },
     "execution_count": 61,
     "metadata": {},
     "output_type": "execute_result"
    }
   ],
   "source": [
    "norm_2_sorting(ejemplo)"
   ]
  },
  {
   "cell_type": "markdown",
   "id": "c36b7e9a",
   "metadata": {},
   "source": [
    "### EJERCICIO 3"
   ]
  },
  {
   "cell_type": "code",
   "execution_count": 62,
   "id": "f4d7a00c",
   "metadata": {},
   "outputs": [],
   "source": [
    "class userid(object):\n",
    "        def __init__(self, users):\n",
    "            self.users = np.array(users)\n",
    "            self.index = np.arange(len(users))\n",
    "            print('Indice: ',self.index)\n",
    "            \n",
    "        def id2idx(self, numero):\n",
    "            indice = np.where(self.users==numero)\n",
    "            if indice[0].size == 0:\n",
    "                print('el usuario {} no se encuentra en la lista'.format(numero))\n",
    "            else:\n",
    "                print('el primer índice para el usuario {} es {}'.format(numero,indice[0][0]))\n",
    "            return indice\n",
    "        def idx2id(self, ind):\n",
    "            if ind >= len(self.users):\n",
    "                usuario = np.array([])\n",
    "                print('el indice {} se encuentra fuera de rango'.format(ind))             \n",
    "            else:\n",
    "                usuario = self.users[ind]\n",
    "                print('el usuario para el índice {} es {}'.format(ind,usuario))\n",
    "            return usuario\n",
    "    "
   ]
  },
  {
   "cell_type": "code",
   "execution_count": 63,
   "id": "befdfb78",
   "metadata": {},
   "outputs": [
    {
     "name": "stdout",
     "output_type": "stream",
     "text": [
      "Indice:  [0 1 2]\n"
     ]
    }
   ],
   "source": [
    "nuevo=userid([3,4,5])"
   ]
  },
  {
   "cell_type": "code",
   "execution_count": 64,
   "id": "fc00d3cb",
   "metadata": {},
   "outputs": [
    {
     "name": "stdout",
     "output_type": "stream",
     "text": [
      "el primer índice para el usuario 4 es 1\n"
     ]
    },
    {
     "data": {
      "text/plain": [
       "(array([1], dtype=int64),)"
      ]
     },
     "execution_count": 64,
     "metadata": {},
     "output_type": "execute_result"
    }
   ],
   "source": [
    "nuevo.id2idx(4)"
   ]
  },
  {
   "cell_type": "code",
   "execution_count": 65,
   "id": "3c090f34",
   "metadata": {},
   "outputs": [
    {
     "name": "stdout",
     "output_type": "stream",
     "text": [
      "el usuario para el índice 2 es 5\n"
     ]
    },
    {
     "data": {
      "text/plain": [
       "5"
      ]
     },
     "execution_count": 65,
     "metadata": {},
     "output_type": "execute_result"
    }
   ],
   "source": [
    "nuevo.idx2id(2)"
   ]
  },
  {
   "cell_type": "code",
   "execution_count": 66,
   "id": "336f91cf",
   "metadata": {},
   "outputs": [
    {
     "name": "stdout",
     "output_type": "stream",
     "text": [
      "el indice 3 se encuentra fuera de rango\n"
     ]
    },
    {
     "data": {
      "text/plain": [
       "array([], dtype=float64)"
      ]
     },
     "execution_count": 66,
     "metadata": {},
     "output_type": "execute_result"
    }
   ],
   "source": [
    "nuevo.idx2id(3)"
   ]
  },
  {
   "cell_type": "code",
   "execution_count": 67,
   "id": "d3390c7f",
   "metadata": {},
   "outputs": [
    {
     "name": "stdout",
     "output_type": "stream",
     "text": [
      "el usuario 8 no se encuentra en la lista\n"
     ]
    },
    {
     "data": {
      "text/plain": [
       "(array([], dtype=int64),)"
      ]
     },
     "execution_count": 67,
     "metadata": {},
     "output_type": "execute_result"
    }
   ],
   "source": [
    "nuevo.id2idx(8)"
   ]
  },
  {
   "cell_type": "markdown",
   "id": "bce2ff1c",
   "metadata": {},
   "source": [
    "### EJERCICIO 4"
   ]
  },
  {
   "cell_type": "code",
   "execution_count": 68,
   "id": "26fe5a6a",
   "metadata": {},
   "outputs": [
    {
     "name": "stdout",
     "output_type": "stream",
     "text": [
      "[ True  True False  True  True  True False False False  True] \n",
      " [ True  True  True  True False False  True  True False False]\n"
     ]
    }
   ],
   "source": [
    "truth = np.array([1,1,0,1,1,1,0,0,0,1], dtype = bool)\n",
    "prediction = np.array([1,1,1,1,0,0,1,1,0,0], dtype=bool)\n",
    "print(truth, '\\n',prediction )"
   ]
  },
  {
   "cell_type": "code",
   "execution_count": 69,
   "id": "90acba68",
   "metadata": {},
   "outputs": [],
   "source": [
    "def accuracy(truth, prediction):\n",
    "    temp = np.logical_not(np.logical_xor(truth, prediction))\n",
    "    suma = np.sum(temp)\n",
    "    return suma/len(truth)"
   ]
  },
  {
   "cell_type": "code",
   "execution_count": 70,
   "id": "0bdcd6bf",
   "metadata": {},
   "outputs": [],
   "source": [
    "def tp(truth, prediction):\n",
    "    suma = np.sum(np.logical_and(truth, prediction))\n",
    "    return suma\n",
    "def tn(truth, prediction):\n",
    "    suma = np.sum(np.logical_and(np.logical_not(truth), np.logical_not(prediction)))\n",
    "    return suma\n",
    "def fn(truth, prediction):\n",
    "    suma = np.sum(np.multiply(truth, np.logical_not(prediction)))\n",
    "    return suma\n",
    "def fp(truth, prediction):\n",
    "    suma = np.sum(np.multiply(prediction, np.logical_not(truth)))\n",
    "    return suma"
   ]
  },
  {
   "cell_type": "code",
   "execution_count": 71,
   "id": "d94ab08c",
   "metadata": {},
   "outputs": [
    {
     "name": "stdout",
     "output_type": "stream",
     "text": [
      "0.5\n"
     ]
    }
   ],
   "source": [
    "def precision(truth, prediction):\n",
    "    prec = tp(truth, prediction)/(tp(truth, prediction)+fp(truth, prediction))\n",
    "    return prec\n",
    "print(precision(truth, prediction))"
   ]
  },
  {
   "cell_type": "code",
   "execution_count": 72,
   "id": "c9dd8b43",
   "metadata": {},
   "outputs": [
    {
     "name": "stdout",
     "output_type": "stream",
     "text": [
      "0.5\n"
     ]
    }
   ],
   "source": [
    "def recall(truth, prediction):\n",
    "    prec = tp(truth, prediction)/(tp(truth, prediction)+fn(truth, prediction))\n",
    "    return prec\n",
    "print(recall(truth, prediction))"
   ]
  },
  {
   "cell_type": "code",
   "execution_count": 73,
   "id": "f1b62f4c",
   "metadata": {},
   "outputs": [
    {
     "name": "stdout",
     "output_type": "stream",
     "text": [
      "0.4\n"
     ]
    }
   ],
   "source": [
    "def acc(truth, prediction):\n",
    "    prec = (tp(truth, prediction)+tn(truth, prediction))/(tp(truth, prediction)+tn(truth, prediction)+fp(truth, prediction)+fn(truth, prediction))\n",
    "    return prec\n",
    "print(acc(truth, prediction))"
   ]
  },
  {
   "cell_type": "markdown",
   "id": "e6479c1e",
   "metadata": {},
   "source": [
    "### EJERCICIO 5"
   ]
  },
  {
   "cell_type": "code",
   "execution_count": 140,
   "id": "c142c35b",
   "metadata": {},
   "outputs": [],
   "source": [
    "q_id = np.array([1,1,1,1,2,2,2,3,3,3,3,3,4,4,4,4],dtype='uint8')\n",
    "t_r = np.array([1,0,1,0,1,1,1,0,0,0,0,0,1,0,0,1], dtype='float32')"
   ]
  },
  {
   "cell_type": "code",
   "execution_count": 240,
   "id": "9ca2682d",
   "metadata": {},
   "outputs": [],
   "source": [
    "def average_query_precision(q_id, t_r):\n",
    "    if len(q_id) != len(t_r):\n",
    "        print(\"los vectores deben ser de la misma dimensión\")\n",
    "        return\n",
    "    else:\n",
    "        promedio= 0\n",
    "        i = np.min(q_id)\n",
    "        for i in range(np.max(q_id)):\n",
    "            temp = np.where(q_id == i+1)\n",
    "            \n",
    "            prom = np.mean(t_r[np.min(temp):np.max(temp)+1])\n",
    "            promedio = promedio + prom\n",
    "            print('el promedio parcial para el id {} es {}'.format(i+1,prom))\n",
    "        promedio = promedio / np.max(q_id)\n",
    "        print('Average Query Precision = ', promedio)\n",
    "        return promedio"
   ]
  },
  {
   "cell_type": "code",
   "execution_count": 241,
   "id": "667f490b",
   "metadata": {},
   "outputs": [
    {
     "name": "stdout",
     "output_type": "stream",
     "text": [
      "el promedio parcial para el id 1 es 0.5\n",
      "el promedio parcial para el id 2 es 1.0\n",
      "el promedio parcial para el id 3 es 0.0\n",
      "el promedio parcial para el id 4 es 0.5\n",
      "Average Query Precision =  0.5\n"
     ]
    },
    {
     "data": {
      "text/plain": [
       "0.5"
      ]
     },
     "execution_count": 241,
     "metadata": {},
     "output_type": "execute_result"
    }
   ],
   "source": [
    "average_query_precision(q_id, t_r)"
   ]
  },
  {
   "cell_type": "markdown",
   "id": "01d7ec01",
   "metadata": {},
   "source": [
    "### EJERCICIO 6"
   ]
  },
  {
   "cell_type": "code",
   "execution_count": 284,
   "id": "bf1d1d4a",
   "metadata": {},
   "outputs": [
    {
     "name": "stdout",
     "output_type": "stream",
     "text": [
      "[ 6.708204  9.643651 11.224972]\n"
     ]
    }
   ],
   "source": [
    "x = np.array([[1, 2, 3], [4, 5, 6], [7, 8, 9]],dtype='float32')\n",
    "c = np.array([[1, 0, 0], [0, 1, 1]], dtype='bool')\n",
    "#print(c.shape[0])\n",
    "print(np.linalg.norm((x-c[0,:]),axis=0))\n",
    "#print(np.sum((x-c[0,:])))"
   ]
  },
  {
   "cell_type": "code",
   "execution_count": 290,
   "id": "9342adee",
   "metadata": {},
   "outputs": [
    {
     "name": "stdout",
     "output_type": "stream",
     "text": [
      "[[ 6.708204  9.643651 11.224972]\n",
      " [ 8.124039  8.124039  9.643651]]\n",
      "(2, 3)\n"
     ]
    }
   ],
   "source": [
    "def dist(x,c):\n",
    "    distancia =np.zeros((c.shape[0], x.shape[0]), dtype='float32')\n",
    "    for i in range(c.shape[0]):\n",
    "        dist = np.linalg.norm((x-c[i,:]),axis=0)\n",
    "        distancia[i,:] = np.linalg.norm((x-c[i,:]),axis=0)\n",
    "    print(distancia)\n",
    "    return distancia\n",
    "        \n",
    "        \n",
    "distancia = dist(x,c)\n",
    "print(distancia.shape)"
   ]
  },
  {
   "cell_type": "markdown",
   "id": "5e2e9a20",
   "metadata": {},
   "source": [
    "### EJERCICIO 7"
   ]
  },
  {
   "cell_type": "code",
   "execution_count": 303,
   "id": "03e2305d",
   "metadata": {},
   "outputs": [
    {
     "name": "stdout",
     "output_type": "stream",
     "text": [
      "[[ 6.708204  9.643651 11.224972]\n",
      " [ 8.124039  8.124039  9.643651]]\n"
     ]
    },
    {
     "data": {
      "text/plain": [
       "2"
      ]
     },
     "execution_count": 303,
     "metadata": {},
     "output_type": "execute_result"
    }
   ],
   "source": [
    "vector = dist(x,c)\n"
   ]
  },
  {
   "cell_type": "code",
   "execution_count": 296,
   "id": "d990aca1",
   "metadata": {},
   "outputs": [],
   "source": [
    "indice = np.argmin(vector, axis=0)"
   ]
  },
  {
   "cell_type": "code",
   "execution_count": 297,
   "id": "0527e235",
   "metadata": {},
   "outputs": [
    {
     "data": {
      "text/plain": [
       "array([0, 1, 1], dtype=int64)"
      ]
     },
     "execution_count": 297,
     "metadata": {},
     "output_type": "execute_result"
    }
   ],
   "source": [
    "indice"
   ]
  },
  {
   "cell_type": "markdown",
   "id": "d7152458",
   "metadata": {},
   "source": [
    "### EJERCICIO 8\n"
   ]
  },
  {
   "cell_type": "code",
   "execution_count": 307,
   "id": "6f1bdb4a",
   "metadata": {},
   "outputs": [],
   "source": [
    "import sklearn\n",
    "from sklearn.datasets import load_iris"
   ]
  },
  {
   "cell_type": "code",
   "execution_count": 331,
   "id": "1fd2ab51",
   "metadata": {},
   "outputs": [
    {
     "name": "stdout",
     "output_type": "stream",
     "text": [
      "<class 'sklearn.utils.Bunch'>\n"
     ]
    },
    {
     "data": {
      "text/plain": [
       "(150, 3)"
      ]
     },
     "execution_count": 331,
     "metadata": {},
     "output_type": "execute_result"
    }
   ],
   "source": [
    "iris = load_iris()\n",
    "print(type(iris))\n",
    "X = np.array(iris.data[:, :3])\n",
    "X.dtype\n",
    "X.shape"
   ]
  },
  {
   "cell_type": "code",
   "execution_count": 366,
   "id": "94d7b499",
   "metadata": {},
   "outputs": [
    {
     "name": "stdout",
     "output_type": "stream",
     "text": [
      "(4, 1, 3)\n",
      "(4, 3)\n"
     ]
    },
    {
     "data": {
      "text/plain": [
       "(array([2, 2, 2, 2, 2, 0, 2, 2, 2, 2, 0, 2, 2, 2, 0, 0, 0, 2, 0, 0, 0, 0,\n",
       "        2, 2, 2, 2, 2, 0, 2, 2, 2, 0, 0, 0, 2, 2, 0, 2, 2, 2, 2, 2, 2, 2,\n",
       "        0, 2, 0, 2, 0, 2, 3, 1, 3, 1, 1, 1, 1, 1, 1, 1, 1, 1, 1, 1, 1, 1,\n",
       "        1, 1, 1, 1, 1, 1, 1, 1, 1, 1, 3, 3, 1, 1, 1, 1, 1, 1, 1, 1, 3, 1,\n",
       "        1, 1, 1, 1, 1, 1, 1, 1, 1, 1, 1, 1, 3, 1, 3, 3, 3, 3, 1, 3, 3, 3,\n",
       "        3, 3, 3, 1, 1, 3, 3, 3, 3, 1, 3, 1, 3, 1, 3, 3, 1, 1, 3, 3, 3, 3,\n",
       "        3, 3, 3, 3, 3, 3, 1, 3, 3, 3, 1, 3, 3, 3, 1, 3, 3, 1], dtype=int64),\n",
       " array([[5.37058824, 3.8       , 1.51764706],\n",
       "        [5.84655172, 2.73275862, 4.3637931 ],\n",
       "        [4.81818182, 3.23636364, 1.43333333],\n",
       "        [6.83571429, 3.06428571, 5.6547619 ]]))"
      ]
     },
     "execution_count": 366,
     "metadata": {},
     "output_type": "execute_result"
    }
   ],
   "source": [
    "def kmeans(clusters, datos, iteraciones):\n",
    "    clasificacion = np.zeros(datos.shape[0])\n",
    "    indices = np.array([x for x in range(0, datos.shape[0],1)])\n",
    "    centroides = datos[np.random.choice(indices, size=(clusters),replace=False)]\n",
    "    centroides = centroides[:,None]\n",
    "    for x in range(iteraciones):\n",
    "        #print(datos.shape)\n",
    "        #print(centroides.shape)\n",
    "        dist = np.linalg.norm(datos-centroides, axis=2)\n",
    "        clasificacion = np.argmin(dist, axis=0)\n",
    "        #print(dist.shape)\n",
    "        #print(clasificacion.shape)\n",
    "        for cluster in range(clusters):\n",
    "            centroides[cluster] = np.mean(datos[clasificacion == cluster], axis =0)\n",
    "    dist = np.linalg.norm(datos-centroides, axis=2) \n",
    "    clasificacion = np.argmin(dist, axis=0)\n",
    "    print(centroides.shape)\n",
    "    centroides = np.reshape(centroides, (centroides.shape[0], centroides.shape[2]))\n",
    "    print(centroides.shape)\n",
    "    return clasificacion, centroides\n",
    "\n",
    "kmeans(4, X, 100)\n",
    "    \n"
   ]
  },
  {
   "cell_type": "markdown",
   "id": "49dba9cc",
   "metadata": {},
   "source": [
    "### EJERCICIO 9"
   ]
  },
  {
   "cell_type": "code",
   "execution_count": null,
   "id": "cfe45666",
   "metadata": {},
   "outputs": [],
   "source": []
  }
 ],
 "metadata": {
  "kernelspec": {
   "display_name": "vision1",
   "language": "python",
   "name": "vision1"
  },
  "language_info": {
   "codemirror_mode": {
    "name": "ipython",
    "version": 3
   },
   "file_extension": ".py",
   "mimetype": "text/x-python",
   "name": "python",
   "nbconvert_exporter": "python",
   "pygments_lexer": "ipython3",
   "version": "3.9.7"
  }
 },
 "nbformat": 4,
 "nbformat_minor": 5
}
