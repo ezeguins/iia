{
 "cells": [
  {
   "cell_type": "code",
   "execution_count": 2,
   "id": "b252d9bb",
   "metadata": {},
   "outputs": [],
   "source": [
    "import os\n",
    "import numpy as np\n",
    "import matplotlib.pyplot as plt\n",
    "\n",
    "from sklearn import cluster, datasets, mixture\n",
    "from sklearn.neighbors import kneighbors_graph\n",
    "from sklearn.preprocessing import StandardScaler\n",
    "from itertools import cycle, islice\n",
    "from sklearn.mixture import GaussianMixture\n",
    "from matplotlib.patches import Ellipse\n",
    "from scipy.stats import multivariate_normal\n",
    "from scipy.stats import norm"
   ]
  },
  {
   "cell_type": "code",
   "execution_count": 55,
   "id": "db6d19e2",
   "metadata": {},
   "outputs": [
    {
     "data": {
      "text/plain": [
       "(1500, 1)"
      ]
     },
     "execution_count": 55,
     "metadata": {},
     "output_type": "execute_result"
    }
   ],
   "source": [
    "# Generamos el dataset, blobs con distinta varianza\n",
    "n_samples = 1500\n",
    "X, y = datasets.make_blobs(n_samples=n_samples, cluster_std=[.8, 2, 0.4], random_state=1)\n",
    "X = np.array(X[:, ::-1][:,0])\n",
    "X = X.reshape(-1,1)\n",
    "X.shape"
   ]
  },
  {
   "cell_type": "markdown",
   "id": "a46b46bf",
   "metadata": {},
   "source": [
    "## Utilizamos la función para GMM provista por Sklearn"
   ]
  },
  {
   "cell_type": "code",
   "execution_count": 57,
   "id": "2b3eaf54",
   "metadata": {},
   "outputs": [
    {
     "data": {
      "text/plain": [
       "GaussianMixture(n_components=2, random_state=7)"
      ]
     },
     "execution_count": 57,
     "metadata": {},
     "output_type": "execute_result"
    }
   ],
   "source": [
    "gm = GaussianMixture(n_components=2, covariance_type='full', random_state=7)\n",
    "gm.fit(X,y)"
   ]
  },
  {
   "cell_type": "code",
   "execution_count": 71,
   "id": "b998bf80",
   "metadata": {},
   "outputs": [
    {
     "name": "stdout",
     "output_type": "stream",
     "text": [
      "Medias y covarianzas utilizando SKLEARN\n",
      "\n",
      "Medias: \n",
      "[[ 4.42416944]\n",
      " [-6.03602157]] \n",
      "\n",
      "Covarianzas: \n",
      "[[[0.63660982]]\n",
      "\n",
      " [[6.62270836]]] \n",
      "\n"
     ]
    }
   ],
   "source": [
    "gm.means_\n",
    "gm.covariances_\n",
    "\n",
    "print(\"Medias y covarianzas utilizando SKLEARN\\n\")\n",
    "\n",
    "print(\"Medias: \")\n",
    "print(gm.means_, \"\\n\")\n",
    "\n",
    "print(\"Covarianzas: \")\n",
    "print(gm.covariances_, \"\\n\")"
   ]
  },
  {
   "cell_type": "markdown",
   "id": "5fa12910",
   "metadata": {},
   "source": [
    "## Generamos un algoritmo con Numpy para calcular GMM"
   ]
  },
  {
   "cell_type": "code",
   "execution_count": 73,
   "id": "02c2052c",
   "metadata": {},
   "outputs": [],
   "source": [
    "# Generamos un algoritmo con Numpy\n",
    "class BaseModel(object):\n",
    "\n",
    "    def __init__(self):\n",
    "        self.model = None\n",
    "\n",
    "    def fit(self, X, Y):\n",
    "        return NotImplemented\n",
    "\n",
    "    def predict(self, X):\n",
    "        return NotImplemented\n",
    "class GMM(BaseModel):\n",
    "    \n",
    "    def fit(self, X, y):\n",
    "\n",
    "        # Dimensions\n",
    "        n = X.shape[0]\n",
    "        k = 2\n",
    "\n",
    "        # Parameters initialization\n",
    "        p = np.random.uniform(0, 1, (k, 1))\n",
    "        p = p / np.sum(p, axis=0)\n",
    "        means = np.random.uniform(np.min(X), np.max(X), (k, 1))\n",
    "        covariance = np.sum((np.hstack((X, X))-means.T)**2, axis=0)/(X.shape[0]-1)\n",
    "        covariance = covariance.reshape(-1, 1)\n",
    "        Nij = np.zeros((n, k))\n",
    "        Eij = np.zeros((n, k))\n",
    "        Eij_ant = np.zeros((n, k))\n",
    "\n",
    "        i = 0\n",
    "        delta = False\n",
    "        tol = 1E-5\n",
    "        for j in range(k):\n",
    "            Nij[:, j] = multivariate_normal.pdf(X, means[j], covariance[j])\n",
    "\n",
    "        # Execution Loop\n",
    "        while not (delta or i > 500):\n",
    "            Eij_ant[:, :] = Eij\n",
    "            for j in range(k):\n",
    "                Eij[:, j] = (p[j] * Nij[:, j]) / (Nij @ p)[:, 0]\n",
    "                means[j] = (Eij[:, j].dot(X)) / np.sum(Eij[:, j], axis=0)\n",
    "                covariance[j] = Eij[:, j].dot((X - means[j]) * (X - means[j])) / np.sum(Eij[:, j])\n",
    "                p[j] = np.mean(Eij[:, j])\n",
    "                Nij[:, j] = multivariate_normal.pdf(X, means[j], covariance[j])\n",
    "            delta = np.allclose(Eij_ant, Eij, rtol=tol)\n",
    "            i = i + 1\n",
    "        idx = np.argsort(means[:, 0], axis=0)\n",
    "        self.model = {'mu': means[idx, :], 'cov': covariance[idx, :], 'p': p[idx, :]}\n",
    "\n",
    "    def predict(self, X):\n",
    "        k = self.model['mu'].shape[0]\n",
    "        N = np.zeros((X.shape[0], k))\n",
    "        E = np.zeros((X.shape[0], k))\n",
    "\n",
    "        for i in range(k):\n",
    "            N[:, i] = multivariate_normal.pdf(X, self.model['mu'][i, 0], self.model['cov'][i, 0])\n",
    "        for i in range(k):\n",
    "            E[:, i] = (self.model['p'][i, 0] * N[:, i]) / (N @ self.model['p'])[:, 0]\n",
    "        idx = np.argmax(E, axis=1)\n",
    "        return idx"
   ]
  },
  {
   "cell_type": "code",
   "execution_count": 76,
   "id": "917d0b79",
   "metadata": {},
   "outputs": [],
   "source": [
    "# Aplicamos el algoritmo a nuestro dataset generado\n",
    "EM = GMM()\n",
    "EM.fit(X, y)\n",
    "predictions = EM.predict(X)"
   ]
  },
  {
   "cell_type": "code",
   "execution_count": 75,
   "id": "000da67a",
   "metadata": {},
   "outputs": [
    {
     "name": "stdout",
     "output_type": "stream",
     "text": [
      "Medias y covarianzas utilizando el algoritmo generado con Numpy\n",
      "Medias: \n",
      "[[-6.0358446 ]\n",
      " [ 4.42425893]] \n",
      "\n",
      "Covarianzas: \n",
      "[[6.62405345]\n",
      " [0.63642695]] \n",
      "\n"
     ]
    }
   ],
   "source": [
    "print(\"Medias y covarianzas utilizando el algoritmo generado con Numpy\")\n",
    "\n",
    "print(\"Medias: \")\n",
    "print(EM.model['mu'], \"\\n\")\n",
    "\n",
    "print(\"Covarianzas: \")\n",
    "print(EM.model['cov'], \"\\n\")\n",
    "\n"
   ]
  },
  {
   "cell_type": "markdown",
   "id": "d8498129",
   "metadata": {},
   "source": [
    "## Conclusión: Vemos que los valores de medias y covarianzas utilizando ambos métodos son casi idénticos!"
   ]
  },
  {
   "cell_type": "code",
   "execution_count": null,
   "id": "66a9bbbc",
   "metadata": {},
   "outputs": [],
   "source": []
  }
 ],
 "metadata": {
  "kernelspec": {
   "display_name": "vision1",
   "language": "python",
   "name": "vision1"
  },
  "language_info": {
   "codemirror_mode": {
    "name": "ipython",
    "version": 3
   },
   "file_extension": ".py",
   "mimetype": "text/x-python",
   "name": "python",
   "nbconvert_exporter": "python",
   "pygments_lexer": "ipython3",
   "version": "3.9.7"
  }
 },
 "nbformat": 4,
 "nbformat_minor": 5
}
