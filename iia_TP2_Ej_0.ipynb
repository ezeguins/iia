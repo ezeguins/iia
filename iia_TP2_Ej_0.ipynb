{
 "cells": [
  {
   "cell_type": "markdown",
   "id": "cbbb7fb7",
   "metadata": {},
   "source": [
    "## Introd. a la Inteligencia Artificial\n",
    "# Trabajo práctico clase 2 \n",
    "### Consigna: entregar ejercicios 1 y 2"
   ]
  },
  {
   "cell_type": "markdown",
   "id": "f8cc9bd0",
   "metadata": {},
   "source": [
    "### EJERCICIO 0 - C2   DATASETS SINTETICOS"
   ]
  },
  {
   "cell_type": "code",
   "execution_count": 76,
   "id": "20b471af",
   "metadata": {},
   "outputs": [],
   "source": [
    "import numpy as np\n",
    " "
   ]
  },
  {
   "cell_type": "code",
   "execution_count": 94,
   "id": "19c2d6c6",
   "metadata": {},
   "outputs": [
    {
     "name": "stdout",
     "output_type": "stream",
     "text": [
      "[[False]\n",
      " [False]\n",
      " [ True]\n",
      " [False]\n",
      " [ True]\n",
      " [False]\n",
      " [ True]\n",
      " [False]\n",
      " [False]\n",
      " [ True]\n",
      " [False]\n",
      " [ True]\n",
      " [False]\n",
      " [False]\n",
      " [False]\n",
      " [ True]\n",
      " [False]\n",
      " [False]\n",
      " [ True]\n",
      " [False]\n",
      " [ True]\n",
      " [False]\n",
      " [False]\n",
      " [ True]\n",
      " [ True]\n",
      " [False]\n",
      " [False]\n",
      " [False]\n",
      " [ True]\n",
      " [False]\n",
      " [False]\n",
      " [ True]\n",
      " [ True]\n",
      " [ True]\n",
      " [ True]\n",
      " [ True]\n",
      " [ True]\n",
      " [ True]\n",
      " [ True]\n",
      " [ True]]\n",
      "[[ 4.39126976e+01 -3.17484731e+00  2.00382412e+00 -2.16663151e+00]\n",
      " [ 4.79685049e+01 -6.07450443e-01 -4.33382441e+00  2.86370457e+00]\n",
      " [ 3.40446521e+00 -3.57828146e-02 -1.79332350e+00 -2.95945280e+00]\n",
      " [ 5.37675165e+01 -5.21486578e+00  2.19948266e+00 -4.05235001e+00]\n",
      " [-1.40987557e+00 -2.63332851e+00 -8.48644354e+00  1.92942173e+00]\n",
      " [ 4.59815414e+01 -7.36695870e-01  2.23524042e+00  5.27068469e+00]\n",
      " [-1.75792590e+00 -4.19633799e+00 -6.46517679e-01  6.71122207e-01]\n",
      " [ 5.10388223e+01  1.89766391e+00 -6.07244005e+00  3.74452263e+00]\n",
      " [ 4.55898283e+01 -5.78516661e-01  5.73804940e+00  1.18368307e+00]\n",
      " [ 2.93126172e+00 -3.42496812e+00  1.18413018e+00 -5.34828782e-01]\n",
      " [ 4.87941175e+01  6.12203002e-02 -1.03601154e-02 -1.61109645e+00]\n",
      " [-6.06350347e-02  7.51054166e+00  2.98252040e-01 -2.50050667e+00]\n",
      " [ 4.63893285e+01 -1.93733616e-01  2.08621853e+00 -7.73832046e+00]\n",
      " [ 4.65788392e+01 -1.31220760e+00  2.58972640e+00  5.58406851e+00]\n",
      " [ 4.14007956e+01  3.06005744e+00 -2.34952744e+00 -5.21273952e+00]\n",
      " [-3.31030904e+00  7.31745562e+00 -3.19691539e+00 -1.41118383e+00]\n",
      " [ 5.09384372e+01 -3.45010127e+00  3.50400954e-01  6.84517918e+00]\n",
      " [ 4.61775375e+01 -1.91314235e+00 -4.72119931e+00  4.67363277e+00]\n",
      " [ 1.88873786e+00 -3.17186134e+00  2.02740445e-01  7.27099145e+00]\n",
      " [ 4.56558009e+01  4.91327455e-01 -3.09286846e+00 -3.24375096e+00]\n",
      " [-4.65815589e+00  4.11117541e+00 -1.72646217e+00 -3.60804293e+00]\n",
      " [ 4.77349025e+01 -6.67291974e+00 -5.32180617e+00  5.60580777e-01]\n",
      " [ 4.68817308e+01 -2.94389059e+00 -2.19502679e+00 -2.80880079e+00]\n",
      " [ 7.47748652e-01 -1.74458424e-01 -1.90835756e+00 -5.86989186e+00]\n",
      " [-6.28068612e-02  2.50057333e+00 -1.02789319e+01 -3.97799952e+00]\n",
      " [ 4.43195226e+01 -3.87969805e-01  9.45898717e+00 -1.03550094e+00]\n",
      " [ 4.95323082e+01 -2.58905258e+00 -2.73847951e+00 -3.05657011e-01]\n",
      " [ 5.29632299e+01  8.19780161e+00  3.33619339e+00 -4.19795391e+00]\n",
      " [-1.43158411e+00 -2.61726623e-01  2.32299133e+00 -2.65171575e+00]\n",
      " [ 4.77063921e+01 -1.90152198e+00 -6.24419894e+00 -3.02886783e+00]\n",
      " [ 4.05134878e+01  4.27997385e-01  3.99820895e+00 -8.41184967e+00]\n",
      " [ 1.04638100e+00  3.04807888e+00 -3.35526338e+00 -3.81623319e+00]\n",
      " [-7.89304228e+00 -2.41530378e-01  6.01438095e+00  1.55369396e+00]\n",
      " [-4.90912727e+00  5.59996902e+00  7.03800056e+00 -3.33200523e+00]\n",
      " [ 3.67469189e+00 -5.63738125e+00  2.60855058e+00  1.07585140e+00]\n",
      " [ 7.42812617e+00  5.86117306e+00 -2.13828056e+00 -9.20753808e-01]\n",
      " [-2.27933517e+00  6.31593038e+00  1.19588762e-01 -3.26717831e+00]\n",
      " [-6.42343301e+00  5.84950398e+00 -6.28594696e+00  2.52475059e+00]\n",
      " [ 3.13171277e+00  1.01445880e+01  4.46271945e-03 -1.63011231e+00]\n",
      " [ 4.15701845e+00  2.61992868e+00 -1.60487019e+00 -1.85600816e-01]]\n"
     ]
    }
   ],
   "source": [
    "centroides = np.array([[1,0,0,0],[0,1,0,0]], dtype = 'uint64')\n",
    "centroides[0] = np.multiply(centroides[0], np.random.randint(0,500))\n",
    "centroides_A = np.reshape(centroides[0], (1,4))\n",
    "centroides_B = np.reshape(centroides[1], (1,4))\n",
    "n = 40\n",
    "n2 = np.int_(n/2)\n",
    "datos_A = np.repeat(centroides_A, n/2, axis=0)\n",
    "datos_B = np.repeat(centroides_B, n/2, axis=0)\n",
    "mu, sigma = 0, 4\n",
    "datos_A_norm = datos_A + np.reshape(np.array([[np.random.normal(mu, sigma, np.int_(n/2))],[np.random.normal(mu, sigma, np.int_(n/2))],[np.random.normal(mu, sigma, np.int_(n/2))],[np.random.normal(mu, sigma, np.int_(n/2))]]),(np.int_(n/2),4))\n",
    "datos_B_norm = datos_B + np.reshape(np.array([[np.random.normal(mu, sigma, n2)],[np.random.normal(mu, sigma, n2)],[np.random.normal(mu, sigma, n2)],[np.random.normal(mu, sigma, n2)]]),(n2,4))\n",
    "indicador = np.reshape(np.array([np.zeros(n2),np.ones(n2)], dtype='bool'),(n,1))\n",
    "indice = np.arange(n)\n",
    "np.random.shuffle(indice)\n",
    "completo = np.array([datos_A_norm,datos_B_norm])\n",
    "completo = np.reshape(completo,(n,4))\n",
    "completo_mix = completo[indice]\n",
    "indicador_mix = indicador[indice]\n",
    "\n",
    "print(indicador_mix)\n",
    "print(completo_mix)\n",
    "\n",
    "# El arreglo \"indicador\" contiene la información de a qué centroide corresponde cada fila del arreglo \"completo_mix\""
   ]
  },
  {
   "cell_type": "code",
   "execution_count": null,
   "id": "1f266ca3",
   "metadata": {},
   "outputs": [],
   "source": []
  }
 ],
 "metadata": {
  "kernelspec": {
   "display_name": "vision1",
   "language": "python",
   "name": "vision1"
  },
  "language_info": {
   "codemirror_mode": {
    "name": "ipython",
    "version": 3
   },
   "file_extension": ".py",
   "mimetype": "text/x-python",
   "name": "python",
   "nbconvert_exporter": "python",
   "pygments_lexer": "ipython3",
   "version": "3.9.7"
  }
 },
 "nbformat": 4,
 "nbformat_minor": 5
}
