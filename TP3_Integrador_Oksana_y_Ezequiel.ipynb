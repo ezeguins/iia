{
 "cells": [
  {
   "cell_type": "code",
   "execution_count": 1,
   "id": "f072b9dd",
   "metadata": {},
   "outputs": [],
   "source": [
    "# Importo librerías\n",
    "import numpy as np\n",
    "import cv2\n",
    "import matplotlib.pyplot as plt\n",
    "import seaborn as sns\n",
    "import pandas as pd"
   ]
  },
  {
   "cell_type": "markdown",
   "id": "98e41a88",
   "metadata": {},
   "source": [
    "## consigna\n",
    "Cargar los datos (Clase3v2.csv en Slack, la última columna es el target)  con objeto de clase Data (implementada por ustedes) con un método que cumpla esa función al pasarle la ruta. Hacer un split de los datos en train/test (usar 80/20)\n",
    "\n",
    "Tratar los nans con al menos dos de las técnicas vistas en clase. (pasarían a tener dos datasets para comparar en lo que sigue)\n",
    "\n",
    "Utilizar PCA para quedarse con las 3 CP.  (de cada uno del punto 2, idealmente usen su implementación, pero pueden usar las librerías)\n",
    "\n",
    "Crear una clase métrica base y una clase MSE que herede es ella. (esto viene de ejercicios anteriores)\n",
    "\n",
    "Crear una clase modelo base y clase regresión lineal que herede de ella.  (esto viene de ejercicios anteirores)\n",
    "\n",
    "Entrenar la regresión lineal sobre train. Calcular MSE sobre validation. (para todas las variantes que hayan hecho en 2) y comparar.\n",
    "\n",
    " \n"
   ]
  },
  {
   "cell_type": "code",
   "execution_count": 2,
   "id": "dc46ffc3",
   "metadata": {},
   "outputs": [],
   "source": [
    "# Importamos la clase Data\n",
    "\n",
    "import csv\n",
    "class Data(object):\n",
    "\n",
    "    def __init__(self, path):\n",
    "        self.dataset = self._build_dataset(path)\n",
    "\n",
    "    @staticmethod\n",
    "    def _build_dataset(path):\n",
    "        datos = pd.read_csv(path, sep = ';')\n",
    "        # Agregamos el nombre de las columnas\n",
    "        headers =  ['X0','X1', 'X2', 'X3', 'X4', 'X5', 'Y']\n",
    "        datos.columns=headers\n",
    "        return datos\n",
    "\n",
    "    def split(self, percentage):  # 0.8\n",
    "        X = self.dataset[['X0','X1', 'X2', 'X3', 'X4', 'X5']]\n",
    "        y = self.dataset['Y']\n",
    "\n",
    "  \n",
    "        permuted_idxs = np.random.permutation(X.shape[0])\n",
    "\n",
    "        train_idxs = permuted_idxs[0:int(percentage * X.shape[0])]\n",
    "\n",
    "        test_idxs = permuted_idxs[int(percentage * X.shape[0]): X.shape[0]]\n",
    "  \n",
    "        X_train = X.values[train_idxs]\n",
    "        X_test = X.values[test_idxs]\n",
    "\n",
    "        y_train = y.values[train_idxs]\n",
    "        y_test = y.values[test_idxs]\n",
    "\n",
    "        return X_train, X_test, y_train, y_test"
   ]
  },
  {
   "cell_type": "code",
   "execution_count": 3,
   "id": "c23efbf2",
   "metadata": {},
   "outputs": [
    {
     "data": {
      "text/html": [
       "<div>\n",
       "<style scoped>\n",
       "    .dataframe tbody tr th:only-of-type {\n",
       "        vertical-align: middle;\n",
       "    }\n",
       "\n",
       "    .dataframe tbody tr th {\n",
       "        vertical-align: top;\n",
       "    }\n",
       "\n",
       "    .dataframe thead th {\n",
       "        text-align: right;\n",
       "    }\n",
       "</style>\n",
       "<table border=\"1\" class=\"dataframe\">\n",
       "  <thead>\n",
       "    <tr style=\"text-align: right;\">\n",
       "      <th></th>\n",
       "      <th>X0</th>\n",
       "      <th>X1</th>\n",
       "      <th>X2</th>\n",
       "      <th>X3</th>\n",
       "      <th>X4</th>\n",
       "      <th>X5</th>\n",
       "      <th>Y</th>\n",
       "    </tr>\n",
       "  </thead>\n",
       "  <tbody>\n",
       "    <tr>\n",
       "      <th>0</th>\n",
       "      <td>13.505001</td>\n",
       "      <td>4.482330</td>\n",
       "      <td>NaN</td>\n",
       "      <td>0.770769</td>\n",
       "      <td>NaN</td>\n",
       "      <td>-3.706287</td>\n",
       "      <td>32.866898</td>\n",
       "    </tr>\n",
       "    <tr>\n",
       "      <th>1</th>\n",
       "      <td>-5.736774</td>\n",
       "      <td>-1.030994</td>\n",
       "      <td>NaN</td>\n",
       "      <td>0.907981</td>\n",
       "      <td>NaN</td>\n",
       "      <td>5.332656</td>\n",
       "      <td>-20.922094</td>\n",
       "    </tr>\n",
       "    <tr>\n",
       "      <th>2</th>\n",
       "      <td>-0.019325</td>\n",
       "      <td>1.909841</td>\n",
       "      <td>NaN</td>\n",
       "      <td>0.137427</td>\n",
       "      <td>NaN</td>\n",
       "      <td>3.400036</td>\n",
       "      <td>1.433380</td>\n",
       "    </tr>\n",
       "    <tr>\n",
       "      <th>3</th>\n",
       "      <td>6.079670</td>\n",
       "      <td>1.528345</td>\n",
       "      <td>NaN</td>\n",
       "      <td>0.746475</td>\n",
       "      <td>NaN</td>\n",
       "      <td>-11.486688</td>\n",
       "      <td>11.867943</td>\n",
       "    </tr>\n",
       "    <tr>\n",
       "      <th>4</th>\n",
       "      <td>-6.563463</td>\n",
       "      <td>0.476897</td>\n",
       "      <td>NaN</td>\n",
       "      <td>-0.576820</td>\n",
       "      <td>NaN</td>\n",
       "      <td>-5.003375</td>\n",
       "      <td>-37.913852</td>\n",
       "    </tr>\n",
       "  </tbody>\n",
       "</table>\n",
       "</div>"
      ],
      "text/plain": [
       "          X0        X1  X2        X3  X4         X5          Y\n",
       "0  13.505001  4.482330 NaN  0.770769 NaN  -3.706287  32.866898\n",
       "1  -5.736774 -1.030994 NaN  0.907981 NaN   5.332656 -20.922094\n",
       "2  -0.019325  1.909841 NaN  0.137427 NaN   3.400036   1.433380\n",
       "3   6.079670  1.528345 NaN  0.746475 NaN -11.486688  11.867943\n",
       "4  -6.563463  0.476897 NaN -0.576820 NaN  -5.003375 -37.913852"
      ]
     },
     "execution_count": 3,
     "metadata": {},
     "output_type": "execute_result"
    }
   ],
   "source": [
    "# Cargamos nuestro dataset\n",
    "data = Data('clase3v2.csv')\n",
    "dataset = data._build_dataset('clase3v2.csv')\n",
    "dataset.head()"
   ]
  },
  {
   "cell_type": "code",
   "execution_count": 4,
   "id": "b1c32d32",
   "metadata": {},
   "outputs": [
    {
     "name": "stdout",
     "output_type": "stream",
     "text": [
      "X_train:  (79, 6) \n",
      " y_train:  (79,) \n",
      " X_test:  (20, 6) \n",
      " y_test:  (20,)\n"
     ]
    }
   ],
   "source": [
    "# Dividimos el dataset en train y test\n",
    "X_train, X_test, y_train, y_test = data.split(.8)\n",
    "print('X_train: ', X_train.shape, '\\n y_train: ', y_train.shape, '\\n X_test: ', X_test.shape, '\\n y_test: ', y_test.shape)"
   ]
  },
  {
   "cell_type": "markdown",
   "id": "7409116a",
   "metadata": {},
   "source": [
    "### IMPUTACION DE NANS"
   ]
  },
  {
   "cell_type": "code",
   "execution_count": 5,
   "id": "9a084958",
   "metadata": {},
   "outputs": [],
   "source": [
    "def gen_df(x, y):\n",
    "    dataf = pd.DataFrame({'X0':x[:,0],'X1':x[:,1],'X2':x[:,2],'X3':x[:,3],'X4':x[:,4],'X5':x[:,5],'Y': y})\n",
    "    return dataf"
   ]
  },
  {
   "cell_type": "code",
   "execution_count": 6,
   "id": "856df300",
   "metadata": {},
   "outputs": [],
   "source": [
    "# Se imputa utilizando la mediana:\n",
    "train_df_median = gen_df(X_train, y_train)\n",
    "test_df_median = gen_df(X_test, y_test)\n",
    "for column in train_df_median.columns:\n",
    "    train_df_median.loc[train_df_median[column].isna(), column] = train_df_median[column].mean()\n",
    "for column in test_df_median.columns:\n",
    "    test_df_median.loc[test_df_median[column].isna(), column] = test_df_median[column].mean()\n"
   ]
  },
  {
   "cell_type": "code",
   "execution_count": 7,
   "id": "73cd6976",
   "metadata": {},
   "outputs": [],
   "source": [
    "# Se imputa utilizando el valor medio:\n",
    "train_df_mean = gen_df(X_train, y_train)\n",
    "test_df_mean = gen_df(X_test, y_test)\n",
    "for column in train_df_mean.columns:\n",
    "    train_df_mean.loc[train_df_mean[column].isna(), column] = train_df_mean[column].mean()\n",
    "for column in test_df_mean.columns:\n",
    "    test_df_mean.loc[test_df_mean[column].isna(), column] = test_df_mean[column].mean()"
   ]
  },
  {
   "cell_type": "code",
   "execution_count": 58,
   "id": "8bb8f4a4",
   "metadata": {},
   "outputs": [
    {
     "name": "stdout",
     "output_type": "stream",
     "text": [
      "quedan los dataset con los siguientes tamaños: Train: 59, Test: 16\n"
     ]
    }
   ],
   "source": [
    "# Se resuelve la faltante de datos con la técnia de eliminar las filas con datos vacíos\n",
    "train_df_drop = gen_df(X_train, y_train)\n",
    "test_df_drop = gen_df(X_test, y_test)\n",
    "train_df_drop = train_df_drop.dropna()\n",
    "test_df_drop = test_df_drop.dropna()\n",
    "print('quedan los dataset con los siguientes tamaños: Train: {}, Test: {}'.format(len(train_df_drop['X0']), len(test_df_drop['X0'])))"
   ]
  },
  {
   "cell_type": "markdown",
   "id": "fae6079b",
   "metadata": {},
   "source": [
    "### PCA"
   ]
  },
  {
   "cell_type": "code",
   "execution_count": 8,
   "id": "25848503",
   "metadata": {},
   "outputs": [],
   "source": [
    "from sklearn.decomposition import PCA"
   ]
  },
  {
   "cell_type": "code",
   "execution_count": 9,
   "id": "2861e31d",
   "metadata": {},
   "outputs": [],
   "source": [
    "features = ['X0','X1','X2','X3','X4','X5']"
   ]
  },
  {
   "cell_type": "code",
   "execution_count": 10,
   "id": "2522b00f",
   "metadata": {},
   "outputs": [],
   "source": [
    "pca_mean = PCA(n_components=3)\n",
    "pca_mean_features = pca_mean.fit(train_df_mean[features])\n",
    "pca_median= PCA(n_components=3)\n",
    "pca_median_features = pca_median.fit(train_df_median[features])"
   ]
  },
  {
   "cell_type": "code",
   "execution_count": 11,
   "id": "0db59d1f",
   "metadata": {},
   "outputs": [
    {
     "data": {
      "image/png": "[encoded data removed]",
      "text/plain": [
       "<Figure size 720x504 with 1 Axes>"
      ]
     },
     "metadata": {
      "needs_background": "light"
     },
     "output_type": "display_data"
    }
   ],
   "source": [
    "# Varianza explicada para features completados con la meadiana\n",
    "pca_for_graph = PCA(n_components=.999999, random_state=8).fit(train_df_median[features])\n",
    "plt.figure(figsize=(10,7))\n",
    "plt.plot(np.cumsum(pca_for_graph.explained_variance_ratio_), color='k', lw=2)\n",
    "plt.xlabel('Cantidad de componentes')\n",
    "plt.ylabel('Total varianza contemplada')\n",
    "plt.xlim(0, 5)\n",
    "plt.yticks(np.arange(0, 1.1, 0.1))\n",
    "plt.axvline(3, c='b')\n",
    "#plt.axhline(0.9, c='r')\n",
    "plt.show();"
   ]
  },
  {
   "cell_type": "code",
   "execution_count": 12,
   "id": "acc36067",
   "metadata": {},
   "outputs": [
    {
     "data": {
      "image/png": "[encoded data removed]",
      "text/plain": [
       "<Figure size 720x504 with 1 Axes>"
      ]
     },
     "metadata": {
      "needs_background": "light"
     },
     "output_type": "display_data"
    }
   ],
   "source": [
    "# Varianza explicada para features completados con la meadina\n",
    "pca_for_graph = PCA(n_components=.999999, random_state=8).fit(train_df_mean[features])\n",
    "plt.figure(figsize=(10,7))\n",
    "plt.plot(np.cumsum(pca_for_graph.explained_variance_ratio_), color='k', lw=2)\n",
    "plt.xlabel('Cantidad de componentes')\n",
    "plt.ylabel('Total varianza contemplada')\n",
    "plt.xlim(0, 5)\n",
    "plt.yticks(np.arange(0, 1.1, 0.1))\n",
    "plt.axvline(3, c='b')\n",
    "#plt.axhline(0.95, c='r')\n",
    "plt.show();"
   ]
  },
  {
   "cell_type": "code",
   "execution_count": 59,
   "id": "c79b0cf9",
   "metadata": {},
   "outputs": [
    {
     "data": {
      "image/png": "[encoded data removed]",
      "text/plain": [
       "<Figure size 720x504 with 1 Axes>"
      ]
     },
     "metadata": {
      "needs_background": "light"
     },
     "output_type": "display_data"
    }
   ],
   "source": [
    "# Varianza explicada para features con filas reducidas por eliminación de Nans\n",
    "pca_for_graph = PCA(n_components=.999999, random_state=8).fit(train_df_drop[features])\n",
    "plt.figure(figsize=(10,7))\n",
    "plt.plot(np.cumsum(pca_for_graph.explained_variance_ratio_), color='k', lw=2)\n",
    "plt.xlabel('Cantidad de componentes')\n",
    "plt.ylabel('Total varianza contemplada')\n",
    "plt.xlim(0, 5)\n",
    "plt.yticks(np.arange(0, 1.1, 0.1))\n",
    "plt.axvline(3, c='b')\n",
    "#plt.axhline(0.95, c='r')\n",
    "plt.show();"
   ]
  },
  {
   "cell_type": "markdown",
   "id": "598abf75",
   "metadata": {},
   "source": [
    "## Creamos la clase MSE"
   ]
  },
  {
   "cell_type": "code",
   "execution_count": 13,
   "id": "29ccdd4c",
   "metadata": {},
   "outputs": [],
   "source": [
    "class Metric(object):\n",
    "    def __call__(self, target, prediction):\n",
    "        return NotImplemented\n",
    "\n",
    "\n",
    "class MSE(Metric):\n",
    "    def __init__(self):\n",
    "        Metric.__init__(self)\n",
    "\n",
    "    def __call__(self, target, prediction):\n",
    "        n = target.size\n",
    "        return np.sum((target - prediction) ** 2) / n"
   ]
  },
  {
   "cell_type": "markdown",
   "id": "e1498a14",
   "metadata": {},
   "source": [
    "## Creamos la clase de regresión lineal"
   ]
  },
  {
   "cell_type": "code",
   "execution_count": 38,
   "id": "90b3fda6",
   "metadata": {},
   "outputs": [],
   "source": [
    "class BaseModel(object):\n",
    "\n",
    "    def __init__(self):\n",
    "        self.model = None\n",
    "\n",
    "    def fit(self, X, Y):\n",
    "        return NotImplemented\n",
    "\n",
    "    def predict(self, X):\n",
    "        return NotImplemented\n",
    "\n",
    "class LinearRegression(BaseModel):\n",
    "\n",
    "    def fit(self, X, y):\n",
    "        if len(X.shape) == 1:\n",
    "            W = X.T.dot(y) / X.T.dot(X)\n",
    "        else:\n",
    "            W = np.linalg.inv(X.T.dot(X)).dot(X.T).dot(y)\n",
    "        self.model = W\n",
    "\n",
    "    def predict(self, X):\n",
    "        return self.model, X @ self.model.reshape(-1,1)\n",
    "    \n"
   ]
  },
  {
   "cell_type": "markdown",
   "id": "8f6fdd59",
   "metadata": {},
   "source": [
    "## Implementamos la regresión sobre el dataset de Media "
   ]
  },
  {
   "cell_type": "code",
   "execution_count": 39,
   "id": "746bbefa",
   "metadata": {},
   "outputs": [],
   "source": [
    "lr_mean = LinearRegression()\n",
    "lr_mean.fit(train_df_mean[features], train_df_mean['Y'])\n",
    "model, lr_y_hat = lr_mean.predict(test_df_mean[features])"
   ]
  },
  {
   "cell_type": "code",
   "execution_count": 54,
   "id": "e784bb9f",
   "metadata": {},
   "outputs": [
    {
     "name": "stdout",
     "output_type": "stream",
     "text": [
      "el error cuadrático medio, utilizando regresión lineal, habiendo completado los NANs con la Media, es:  175.8664603024301\n"
     ]
    }
   ],
   "source": [
    "# Vemos la métrica MSE\n",
    "mse_mean = MSE()\n",
    "error_mean = mse_mean(test_df_mean['Y'],lr_y_hat[:][0] )\n",
    "print('el error cuadrático medio, utilizando regresión lineal, habiendo completado los NANs con la Media, es: ', error_mean)"
   ]
  },
  {
   "cell_type": "markdown",
   "id": "75fb0dcc",
   "metadata": {},
   "source": [
    "## Implementamos la regresión sobre el dataset de Mediana"
   ]
  },
  {
   "cell_type": "code",
   "execution_count": 55,
   "id": "440ac4aa",
   "metadata": {},
   "outputs": [],
   "source": [
    "lr_median = LinearRegression()\n",
    "lr_median.fit(train_df_median[features], train_df_median['Y'])\n",
    "model_m, lr_y_hat_m = lr_median.predict(test_df_median[features])"
   ]
  },
  {
   "cell_type": "code",
   "execution_count": 56,
   "id": "acc0c57e",
   "metadata": {},
   "outputs": [
    {
     "name": "stdout",
     "output_type": "stream",
     "text": [
      "el error cuadrático medio, utilizando regresión lineal, habiendo completado los NANs con la Mediana, es:  175.8664603024301\n"
     ]
    }
   ],
   "source": [
    "# Vemos la métrica MSE\n",
    "mse_median = MSE()\n",
    "error_median = mse_median(test_df_median['Y'],lr_y_hat_m[:][0] )\n",
    "print('el error cuadrático medio, utilizando regresión lineal, habiendo completado los NANs con la Mediana, es: ', error_median)"
   ]
  },
  {
   "cell_type": "markdown",
   "id": "5bd0a401",
   "metadata": {},
   "source": [
    "## Implementamos la regresión sobre el dataset reducido por dropeo de nans\n"
   ]
  },
  {
   "cell_type": "code",
   "execution_count": 61,
   "id": "d548ad17",
   "metadata": {},
   "outputs": [],
   "source": [
    "lr_drop = LinearRegression()\n",
    "lr_drop.fit(train_df_drop[features], train_df_drop['Y'])\n",
    "model_d, lr_y_hat_d = lr_drop.predict(test_df_drop[features])"
   ]
  },
  {
   "cell_type": "code",
   "execution_count": 62,
   "id": "da6ada60",
   "metadata": {},
   "outputs": [
    {
     "name": "stdout",
     "output_type": "stream",
     "text": [
      "el error cuadrático medio, utilizando regresión lineal, habiendo eliminado filas con datos vacíos, es:  148.78677176836007\n"
     ]
    }
   ],
   "source": [
    "# Vemos la métrica MSE\n",
    "mse_drop = MSE()\n",
    "error_drop = mse_drop(test_df_drop['Y'],lr_y_hat_m[:][0] )\n",
    "print('el error cuadrático medio, utilizando regresión lineal, habiendo eliminado filas con datos vacíos, es: ', error_drop)"
   ]
  },
  {
   "cell_type": "code",
   "execution_count": null,
   "id": "80ac5637",
   "metadata": {},
   "outputs": [],
   "source": []
  }
 ],
 "metadata": {
  "kernelspec": {
   "display_name": "vision1",
   "language": "python",
   "name": "vision1"
  },
  "language_info": {
   "codemirror_mode": {
    "name": "ipython",
    "version": 3
   },
   "file_extension": ".py",
   "mimetype": "text/x-python",
   "name": "python",
   "nbconvert_exporter": "python",
   "pygments_lexer": "ipython3",
   "version": "3.9.7"
  }
 },
 "nbformat": 4,
 "nbformat_minor": 5
}
